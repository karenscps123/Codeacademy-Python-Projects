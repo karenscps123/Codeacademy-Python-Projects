{
  "nbformat": 4,
  "nbformat_minor": 0,
  "metadata": {
    "colab": {
      "provenance": [],
      "collapsed_sections": [
        "Q1nw0u8YisvE",
        "Nv4j7jAuzu0m",
        "rs0QcbGU2x76",
        "MRxXfMpd-X--",
        "qqcAPLXlQItF",
        "WhY5HqQGYkC_",
        "aEiJ5lH5kte_",
        "NFvWtOSnmqP4",
        "17N65LirsAXz",
        "eEpcPD0q7kg8",
        "NAlj5wmYEgdu",
        "Rj-sNK_uLZoL",
        "a15kZkpgN8O9"
      ],
      "toc_visible": true,
      "authorship_tag": "ABX9TyMabt5sgrEm3womr3l+m4O7",
      "include_colab_link": true
    },
    "kernelspec": {
      "name": "python3",
      "display_name": "Python 3"
    },
    "language_info": {
      "name": "python"
    }
  },
  "cells": [
    {
      "cell_type": "markdown",
      "metadata": {
        "id": "view-in-github",
        "colab_type": "text"
      },
      "source": [
        "<a href=\"https://colab.research.google.com/github/karenscps123/Codeacademy-Python-Projects/blob/main/Lesson%20Notes/%20Codecademy_Learn_Python_3_1_Chapter_1_3.ipynb\" target=\"_parent\"><img src=\"https://colab.research.google.com/assets/colab-badge.svg\" alt=\"Open In Colab\"/></a>"
      ]
    },
    {
      "cell_type": "markdown",
      "source": [
        "# Hello World"
      ],
      "metadata": {
        "id": "Q1nw0u8YisvE"
      }
    },
    {
      "cell_type": "code",
      "source": [
        "# We've defined the variable \"meal\" here to the name of the food we ate for breakfast!\n",
        "meal = \"An english muffin\"\n",
        "\n",
        "# Printing out breakfast\n",
        "print(\"Breakfast:\")\n",
        "print(meal)\n",
        "\n",
        "# Now update meal to be lunch!\n",
        "meal = \"rice\"\n",
        "\n",
        "# Printing out lunch\n",
        "print(\"Lunch:\")\n",
        "print(meal)\n",
        "\n",
        "# Now update \"meal\" to be dinner\n",
        "meal = \"fish fillet\"\n",
        "# Printing out dinner\n",
        "print(\"Dinner:\")\n",
        "print(meal)"
      ],
      "metadata": {
        "id": "kExkx99Pixd0"
      },
      "execution_count": null,
      "outputs": []
    },
    {
      "cell_type": "code",
      "source": [
        "# You’re trying to divide a group into four teams. All of you count off, and you get number 27.\n",
        "my_team = 27 % 4\n",
        "\n",
        "# Print out my_team. What number team are you on?\n",
        "print(my_team)\n",
        "\n",
        "# what number team are the two people next to you (26 and 28) on? \n",
        "print('person 1:', 26 % 4)\n",
        "print('person 2:', 28 % 4)\n",
        "\n",
        "# What are the numbers for all 4 teams? \n",
        "team_0 = []\n",
        "team_1 = []\n",
        "team_2 = []\n",
        "team_3 = []\n",
        "\n",
        "for i in range(29):\n",
        "  if i % 4 == 0: team_0.append(i)\n",
        "\n",
        "print(\"Team 0 members are: \", team_0)\n",
        "\n",
        "for i in range(29):\n",
        "  if i % 4 == 1: team_1.append(i)\n",
        "\n",
        "print(\"Team 1 members are: \", team_1)\n",
        "\n",
        "for i in range(29):\n",
        "  if i % 4 == 2: team_2.append(i)\n",
        "\n",
        "print(\"Team 2 members are: \", team_2)\n",
        "\n",
        "for i in range(29):\n",
        "  if i % 4 == 3: team_3.append(i)\n",
        "\n",
        "print(\"Team 3 members are: \", team_3)"
      ],
      "metadata": {
        "colab": {
          "base_uri": "https://localhost:8080/"
        },
        "id": "SrqgzEeipVVY",
        "outputId": "461f8168-86ad-4e1e-eb78-9f11e53a9234"
      },
      "execution_count": null,
      "outputs": [
        {
          "output_type": "stream",
          "name": "stdout",
          "text": [
            "3\n",
            "person 1: 2\n",
            "person 2: 0\n",
            "Team 0 members are:  [0, 4, 8, 12, 16, 20, 24, 28]\n",
            "Team 1 members are:  [1, 5, 9, 13, 17, 21, 25]\n",
            "Team 2 members are:  [2, 6, 10, 14, 18, 22, 26]\n",
            "Team 3 members are:  [3, 7, 11, 15, 19, 23, 27]\n"
          ]
        }
      ]
    },
    {
      "cell_type": "markdown",
      "source": [
        ".append() method adds an item to the end of the list "
      ],
      "metadata": {
        "id": "ZGvZ4yEMp7iO"
      }
    },
    {
      "cell_type": "code",
      "source": [
        "# two ways of writting the print funtion with same results, when to change to str()?\n",
        "print(\"person 1: \" + str(26 % 4))\n",
        "print('person 1:', 26 % 4)"
      ],
      "metadata": {
        "colab": {
          "base_uri": "https://localhost:8080/"
        },
        "id": "ibNanVW2rVKW",
        "outputId": "6bcd1360-798f-4659-d19d-155c2b35f952"
      },
      "execution_count": null,
      "outputs": [
        {
          "output_type": "stream",
          "name": "stdout",
          "text": [
            "person 1: 2\n",
            "person 1: 2\n"
          ]
        }
      ]
    },
    {
      "cell_type": "markdown",
      "source": [
        "^ If you want to concatenate a string with a number you will need to make the number a string first, using the str() function. If you’re trying to print() a numeric variable you can use commas to pass it as a different argument rather than converting it to a string."
      ],
      "metadata": {
        "id": "bSLy6rcyshBN"
      }
    },
    {
      "cell_type": "code",
      "source": [
        "# Assign the multi-line string here ** note that the ''' must be right after the variable\n",
        "to_you = '''\n",
        "Stranger, if you passing meet me and desire to speak to me, why should you not speak to me?\n",
        "And why should I not speak to you?'''\n",
        "\n",
        "print(to_you)"
      ],
      "metadata": {
        "id": "zk-OZscGskKJ"
      },
      "execution_count": null,
      "outputs": []
    },
    {
      "cell_type": "markdown",
      "source": [
        "# Block Letters"
      ],
      "metadata": {
        "id": "Nv4j7jAuzu0m"
      }
    },
    {
      "cell_type": "code",
      "source": [
        "#first_name = 'Karen'\n",
        "#last_name = 'Cheung'\n",
        "#fun_fact = 'I love my cats'\n",
        "print ('K   K')\n",
        "print ('K  K ')\n",
        "print ('K K  ')\n",
        "print ('KK   ')\n",
        "print ('K K  ')\n",
        "print ('K  K ')\n",
        "print ('K   K')\n",
        "\n",
        "print('''\n",
        "K   K\n",
        "K  K \n",
        "K K  \n",
        "KK   \n",
        "K K  \n",
        "K  K \n",
        "K   K ''')"
      ],
      "metadata": {
        "id": "GGYrAugxzxum"
      },
      "execution_count": null,
      "outputs": []
    },
    {
      "cell_type": "markdown",
      "source": [
        "both ways work"
      ],
      "metadata": {
        "id": "u2rnV-hezzSL"
      }
    },
    {
      "cell_type": "markdown",
      "source": [
        "# Receipt for lovely loveseat"
      ],
      "metadata": {
        "id": "rs0QcbGU2x76"
      }
    },
    {
      "cell_type": "code",
      "source": [
        "lovely_loveseat_description = '''\n",
        "Lovely Loveseat. Tufted polyester blend on wood. 32 inches high x 40 inches wide x 30 inches deep. Red or white.'''\n",
        "\n",
        "lovely_loveseat_price = 254.00\n",
        "\n",
        "stylish_settee_description = '''\n",
        "Stylish Settee. Faux leather on birch. 29.50 inches high x 54.75 inches wide x 28 inches deep. Black.'''\n",
        "\n",
        "stylish_settee_price = 180.50 \n",
        "\n",
        "luxurious_lamp_description = '''\n",
        "Luxurious Lamp. Glass and iron. 36 inches tall. Brown with cream shade.'''\n",
        "\n",
        "luxurious_lamp_price = 52.15\n",
        "\n",
        "sales_tax = .088 \n",
        "\n",
        "customer_one_total = 0\n",
        "\n",
        "customer_one_itemization = ''\n",
        "customer_one_total += lovely_loveseat_price\n",
        "customer_one_total += luxurious_lamp_price\n",
        "\n",
        "customer_one_itemization += lovely_loveseat_description\n",
        "customer_one_itemization += luxurious_lamp_description\n",
        "\n",
        "customer_one_tax = customer_one_total * sales_tax\n",
        "total_cost = customer_one_total + customer_one_tax\n",
        "print(\"Customer One Items:\", customer_one_itemization)\n",
        "print(\"Customer One Total:\", total_cost)"
      ],
      "metadata": {
        "id": "ltxdqpBQ22hp"
      },
      "execution_count": null,
      "outputs": []
    },
    {
      "cell_type": "markdown",
      "source": [
        "# Control Flow"
      ],
      "metadata": {
        "id": "MRxXfMpd-X--"
      }
    },
    {
      "cell_type": "code",
      "source": [
        "# Enter a user name here, make sure to make it a string\n",
        "user_name = \"angela_catlady_87\"\n",
        "\n",
        "if user_name == \"Dave\":\n",
        "  print(\"Get off my computer Dave!\")\n",
        "\n",
        "if user_name == \"angela_catlady_87\":\n",
        " print(\"I know it is you, Dave! Go away!\")"
      ],
      "metadata": {
        "id": "QBY2zyQp-ar2"
      },
      "execution_count": null,
      "outputs": []
    },
    {
      "cell_type": "markdown",
      "source": [
        "If statement "
      ],
      "metadata": {
        "id": "Iz5RThBB-cmf"
      }
    },
    {
      "cell_type": "code",
      "source": [
        "statement_one = (2 + 2 + 2 >= 6) and (-1 * -1 < 0)\n",
        "\n",
        "statement_two = (4 * 2 <= 8) and (7 - 1 == 6)\n",
        "\n",
        "credits = 120\n",
        "gpa = 3.4\n",
        "\n",
        "# boolean AND operator\n",
        "if (credits >= 120) and (gpa >= 2.0):\n",
        "  print(\"You meet the requirements to graduate!\")\n",
        "\n",
        "# boolean OR operator\n",
        "if (credits >= 120) or (gpa >= 2.0):\n",
        "  print(\"You have met at least one of the requirements.\")\n",
        "\n",
        "# boolean NOT operator\n",
        "if not (credits >= 120):\n",
        "  print(\"You do not have enough credits to graduate.\")\n",
        "\n",
        "if not (gpa >= 2.0):\n",
        "  print(\"Your GPA is not high enough to graduate.\")\n",
        "\n",
        "if (not (credits >= 120)) and (not (gpa >= 2.0)):\n",
        "  print(\"You do not meet either requirement to graduate!\")"
      ],
      "metadata": {
        "id": "DM8f0AFmAZ1k"
      },
      "execution_count": null,
      "outputs": []
    },
    {
      "cell_type": "markdown",
      "source": [
        "boolean operator >> and , or , not"
      ],
      "metadata": {
        "id": "L98rFwaiAamz"
      }
    },
    {
      "cell_type": "code",
      "source": [
        "credits = 120\n",
        "gpa = 1.9\n",
        "\n",
        "if (credits >= 120) and (gpa >= 2.0):\n",
        "  print(\"You meet the requirements to graduate!\")\n",
        "else:\n",
        "  print(\"You do not meet the requirements to graduate.\")"
      ],
      "metadata": {
        "id": "KEvcRGYIEzrD"
      },
      "execution_count": null,
      "outputs": []
    },
    {
      "cell_type": "markdown",
      "source": [
        "can change to an if, else statement, which is much less chuncky. rmb to put colons after if and else!!"
      ],
      "metadata": {
        "id": "RJc6gSdYE1oG"
      }
    },
    {
      "cell_type": "code",
      "source": [
        "grade = 86\n",
        "\n",
        "if grade >= 90: \n",
        "  print(\"A\")\n",
        "elif grade >= 80:\n",
        "  print(\"B\")\n",
        "elif grade >= 70:\n",
        "  print(\"C\")\n",
        "elif grade >= 60:\n",
        "  print(\"D\")\n",
        "else:  print(\"F\")"
      ],
      "metadata": {
        "id": "La_hc9FAE_lA"
      },
      "execution_count": null,
      "outputs": []
    },
    {
      "cell_type": "markdown",
      "source": [
        "elif creates extra conditions to check against after the first if statement. If all ifs are used here, then multiple grades would have been printed."
      ],
      "metadata": {
        "id": "_IIFeTMKJsqc"
      }
    },
    {
      "cell_type": "code",
      "source": [
        "print(\"I have information for the following planets:\\n\")\n",
        "\n",
        "print(\"   1. Venus   2. Mars    3. Jupiter\")\n",
        "print(\"   4. Saturn  5. Uranus  6. Neptune\")\n",
        " \n",
        "weight = 185\n",
        "planet = 3\n",
        "\n",
        "# Write an if statement below to:\n",
        "# 1. Checks which number planet is equal to.\n",
        "# 2. It should then compute their weight on the destination planet.\n",
        "\n",
        "if planet == 1:\n",
        "  print(\"weight on Venus = \", (185*0.91))\n",
        "if planet == 2:\n",
        "  print(\"weight on Mars = \", (185*0.38))\n",
        "if planet == 3:\n",
        "  print(\"weight on Jupiter = \", (185*2.34))\n",
        "if planet == 4:\n",
        "  print(\"weight on Saturn = \", (185*1.06))\n",
        "if planet == 5:\n",
        "  print(\"weight on Uranus = \", (185*0.92))\n",
        "if planet == 6:\n",
        "  print(\"weight on Neptune = \", (185*1.19))"
      ],
      "metadata": {
        "id": "U6CeL8qoMkIP"
      },
      "execution_count": null,
      "outputs": []
    },
    {
      "cell_type": "markdown",
      "source": [
        "# Magic 8-ball"
      ],
      "metadata": {
        "id": "qqcAPLXlQItF"
      }
    },
    {
      "cell_type": "code",
      "source": [
        "# use the .randint() function from the random module to generate a random number from a range.\n",
        "# generate a random number between 1 (inclusive) and 9 (inclusive).\n",
        "import random\n",
        "random_number = random.randint(1,9)\n",
        "\n",
        "# 8-ball user dialogues\n",
        "name = input(\"What is your name?\")\n",
        "print(\"Hello,\", name, \"!\")\n",
        "question = input(\"What do you wanna ask 8-ball?\")\n",
        "answer = \"\"\n",
        "\n",
        "# mysterious inner workings of the *magic*\n",
        "if random_number == 1:\n",
        "  answer += \"Yes - definitely.\"\n",
        "elif random_number == 2:\n",
        "  answer += \"It is decidedly so.\"\n",
        "elif random_number == 3:\n",
        "  answer += \"Without a doubt.\"\n",
        "elif random_number == 4:\n",
        "  answer += \"Reply hazy, try again.\"\n",
        "elif random_number == 5:\n",
        "  answer += \"Ask again later.\"\n",
        "elif random_number == 6:\n",
        "  answer += \"Better not tell you now.\"\n",
        "elif random_number == 7:\n",
        "  answer += \"My sources say no.\"\n",
        "elif random_number == 8:\n",
        "  answer += \"Outlook not so good.\"\n",
        "elif random_number == 9:\n",
        "  answer += \"Very doubtful.\"\n",
        "else:\n",
        "  answer += (\"Error\")\n",
        "\n",
        "print(name,\"asks:\", question)\n",
        "print(\"Magic 8-Ball's answer:\",answer )\n",
        "\n"
      ],
      "metadata": {
        "colab": {
          "base_uri": "https://localhost:8080/"
        },
        "id": "sr7bUENqQMwC",
        "outputId": "6d774701-8f48-4af4-a814-8dc8221dfe6b"
      },
      "execution_count": null,
      "outputs": [
        {
          "output_type": "stream",
          "name": "stdout",
          "text": [
            "What is your name?Karen\n",
            "Hello, Karen !\n",
            "What do you wanna ask 8-ball?are all men trash\n",
            "Karen asks: are all men trash\n",
            "Magic 8-Ball's answer: Without a doubt.\n"
          ]
        }
      ]
    },
    {
      "cell_type": "markdown",
      "source": [
        "# Sal's Shipping"
      ],
      "metadata": {
        "id": "WhY5HqQGYkC_"
      }
    },
    {
      "cell_type": "code",
      "source": [
        "weight = 8.4\n",
        "cost = 0\n",
        "\n",
        "# Ground Shipping \n",
        "if weight <= 2:\n",
        "  cost = weight * 1.50\n",
        "elif (weight > 2 and weight <= 6):\n",
        "  cost = weight * 3.0\n",
        "elif (weight > 6 and weight <= 10):\n",
        "  cost = weight * 4.0\n",
        "else:\n",
        "  cost = weight * 4.75\n",
        "print(\"Normal ground shipping cost = $\", cost + 20)\n",
        "\n",
        "# Ground Shipping premium \n",
        "print(\"Normal ground shipping premium cost = $ 125.0 \")\n",
        "\n",
        "# Drone shipping\n",
        "if weight <= 2:\n",
        "  cost = weight * 4.5\n",
        "elif (weight > 2 and weight <= 6):\n",
        "  cost = weight * 9.0\n",
        "elif (weight > 6 and weight <= 10):\n",
        "  cost = weight * 12.0\n",
        "else:\n",
        "  cost = weight * 14.25\n",
        "print(\"Drone shipping cost = $\", cost)\n"
      ],
      "metadata": {
        "colab": {
          "base_uri": "https://localhost:8080/"
        },
        "id": "54mmONnqdCwH",
        "outputId": "2fe583d3-09d2-4c33-c40a-03d3b91ff2ae"
      },
      "execution_count": null,
      "outputs": [
        {
          "output_type": "stream",
          "name": "stdout",
          "text": [
            "Normal ground shipping cost = $ 53.6\n",
            "Normal ground shipping premium cost = $ 125.0 \n",
            "Drone shipping cost = $ 100.80000000000001\n"
          ]
        }
      ]
    },
    {
      "cell_type": "markdown",
      "source": [
        "# Lists"
      ],
      "metadata": {
        "id": "aEiJ5lH5kte_"
      }
    },
    {
      "cell_type": "code",
      "source": [
        "example_list = [1, 2, 3, 4]\n",
        "\n",
        "#Using Append\n",
        "example_list.append(5)\n",
        "print(example_list)\n",
        "\n",
        "#Using Remove\n",
        "example_list.remove(5)\n",
        "print(example_list)"
      ],
      "metadata": {
        "id": "zHNB-4CqucS_"
      },
      "execution_count": null,
      "outputs": []
    },
    {
      "cell_type": "markdown",
      "source": [
        "list functions >> .append and .remove"
      ],
      "metadata": {
        "id": "A2IRqwT5udLO"
      }
    },
    {
      "cell_type": "code",
      "source": [
        "# Your code below:\n",
        "garden_waitlist = [\"Jiho\", \"Adam\", \"Sonny\", \"Alisha\"]\n",
        "garden_waitlist [1] = \"Calla\"\n",
        "print(garden_waitlist)\n",
        "\n",
        "garden_waitlist [-1] = \"Alex\"\n",
        "print(garden_waitlist)"
      ],
      "metadata": {
        "id": "nKKnx2GXzk0F"
      },
      "execution_count": null,
      "outputs": []
    },
    {
      "cell_type": "markdown",
      "source": [
        "modifying lists"
      ],
      "metadata": {
        "id": "wLyCL9K0zlW7"
      }
    },
    {
      "cell_type": "code",
      "source": [
        "# og list\n",
        "order_list = [\"Celery\", \"Orange Juice\", \"Orange\", \"Flatbread\"]\n",
        "print (order_list)\n",
        "order_list.remove(\"Flatbread\")\n",
        "print (order_list)\n",
        "# new list\n",
        "new_store_order_list = [\"Orange\", \"Apple\", \"Mango\", \"Broccoli\", \"Mango\"]\n",
        "print (new_store_order_list)\n",
        "new_store_order_list.remove(\"Mango\")\n",
        "print (new_store_order_list)\n",
        "# only removes one copy of \"mango\" even thou there's 2 of the exact same str "
      ],
      "metadata": {
        "id": "z-44SVGS1ccv"
      },
      "execution_count": null,
      "outputs": []
    },
    {
      "cell_type": "markdown",
      "source": [
        "list funtion >> .remove"
      ],
      "metadata": {
        "id": "Xjrm6dos1c7K"
      }
    },
    {
      "cell_type": "code",
      "source": [
        "heights = [[\"Jenny\", 61], [\"Alexus\", 70], [\"Sam\", 67], [\"Grace\", 64]]\n",
        "heights.append([\"Vik\", 68])\n",
        "#.append must have round bracket!!\n",
        "print(heights)\n",
        "\n",
        "ages = [[\"Aaron\",15], [\"Dhruti\",16]]"
      ],
      "metadata": {
        "id": "0Ex7tMY61gVL"
      },
      "execution_count": null,
      "outputs": []
    },
    {
      "cell_type": "markdown",
      "source": [
        ".append for sublists"
      ],
      "metadata": {
        "id": "iQtArEG72tWv"
      }
    },
    {
      "cell_type": "code",
      "source": [
        "# slecting sublists items\n",
        "class_name_test = [[\"Jenny\",90],[\"Alexus\",85.5],[\"Sam\",83],[\"Ellie\",101.5]]\n",
        "print(class_name_test)\n",
        "sams_score = class_name_test[2][1]\n",
        "print(sams_score)\n",
        "ellies_score = class_name_test[-1][-1]\n",
        "print(ellies_score)\n",
        "\n",
        "# modifying sublists items\n",
        "incoming_class = [[\"Kenny\", \"American\", 9], [\"Tanya\", \"Ukrainian\", 9], [\"Madison\", \"Indian\", 7]]\n",
        "incoming_class[2][2] = 8\n",
        "incoming_class[-3][-3] = \"Ken\"\n",
        "print(incoming_class)"
      ],
      "metadata": {
        "id": "SGasJWiU35_r"
      },
      "execution_count": null,
      "outputs": []
    },
    {
      "cell_type": "code",
      "source": [
        "first_names = [\"Ainsley\", \"Ben\", \"Chani\", \"Depak\"]\n",
        "preferred_size = [\"Small\", \"Large\", \"Medium\"]\n",
        "\n",
        "preferred_size.append(\"Medium\")\n",
        "\n",
        "customer_data = [[\"Ainsley\", \"Small\", True], \n",
        "[\"Ben\", \"Large\", False], [\"Chani\", \"Medium\", True], [\"Depak\", \"Medium\", False]]\n",
        "\n",
        "customer_data[-2][-1] = False\n",
        "\n",
        "#removing in sublists!\n",
        "customer_data[1].remove(False)\n",
        "\n",
        "new_customer_data = [[\"Amit\", \"Large\", True], [\"Karim\", \"X-Large\", False]]\n",
        "customer_data_final = customer_data + new_customer_data\n",
        "print(customer_data_final)"
      ],
      "metadata": {
        "id": "IOnnz7gP5YRr"
      },
      "execution_count": null,
      "outputs": []
    },
    {
      "cell_type": "markdown",
      "source": [
        "sublist modification and item removal"
      ],
      "metadata": {
        "id": "kaVh642kA3RF"
      }
    },
    {
      "cell_type": "markdown",
      "source": [
        "# Gradebook"
      ],
      "metadata": {
        "id": "NFvWtOSnmqP4"
      }
    },
    {
      "cell_type": "code",
      "source": [
        "last_semester_gradebook = [[\"politics\", 80], [\"latin\", 96], [\"dance\", 97], [\"architecture\", 65]]\n",
        "\n",
        "# Your code below: \n",
        "\n",
        "subjects = [\"physics\", \"calculus\", \"poetry\", \"history\"]\n",
        "\n",
        "grades = [98, 97, 85, 88]\n",
        "\n",
        "gradebook = [[\"physics\", 98], [\"calculus\", 97], [\"poetry\", 85], [\"history\", 88]]\n",
        "\n",
        "print(gradebook)\n",
        "\n",
        "# Add More Subjects:\n",
        "gradebook.append([\"computer science\", 100])\n",
        "gradebook.append([\"visual arts\", 93])\n",
        "\n",
        "print(gradebook)\n",
        "\n",
        "# Modify The Gradebook:\n",
        "gradebook[-1][-1] = 98\n",
        "gradebook[2].remove(85)\n",
        "gradebook[2].append(\"Pass\")\n",
        "print(gradebook)\n",
        "\n",
        "#one big gradebook \n",
        "\n",
        "full_gradebook = last_semester_gradebook + gradebook\n",
        "print(full_gradebook)"
      ],
      "metadata": {
        "id": "_0eCbKBxqqdi"
      },
      "execution_count": null,
      "outputs": []
    },
    {
      "cell_type": "markdown",
      "source": [
        "# Working with Lists"
      ],
      "metadata": {
        "id": "17N65LirsAXz"
      }
    },
    {
      "cell_type": "code",
      "source": [
        "# adding to the '2' index of the list\n",
        "store_line = [\"Karla\", \"Maxium\", \"Martim\", \"Isabella\"]\n",
        "\n",
        "store_line.insert(2, \"Vikor\")\n",
        "\n",
        "\n",
        "# adding to the start of the list\n",
        "front_display_list = [\"Mango\", \"Filet Mignon\", \"Chocolate Milk\"]\n",
        "front_display_list.insert(0, \"Pineapple\")\n"
      ],
      "metadata": {
        "id": "ArevKoDhr_Xs"
      },
      "execution_count": null,
      "outputs": []
    },
    {
      "cell_type": "markdown",
      "source": [
        "Adding by Index: .insert()  >> takes 2 inputs >> the first being a numerical index, followed by any value as the second input."
      ],
      "metadata": {
        "id": "SrRX_JRKtcbl"
      }
    },
    {
      "cell_type": "code",
      "source": [
        "# with no input the last element [-1] is removed \n",
        "cs_topics = [\"Python\", \"Data Structures\", \"Balloon Making\", \"Algorithms\", \"Clowns 101\"]\n",
        "removed_element = cs_topics.pop(2)\n"
      ],
      "metadata": {
        "colab": {
          "base_uri": "https://localhost:8080/"
        },
        "id": "lL6kpE7zujmv",
        "outputId": "fe0d0ffc-0360-4e57-c3fb-6cc93bef7094"
      },
      "execution_count": 9,
      "outputs": [
        {
          "output_type": "stream",
          "name": "stdout",
          "text": [
            "['Python', 'Data Structures', 'Algorithms', 'Clowns 101']\n",
            "Balloon Making\n"
          ]
        }
      ]
    },
    {
      "cell_type": "markdown",
      "source": [
        "method to remove elements at a specific index >> .pop() >> optional single input index no."
      ],
      "metadata": {
        "id": "HDqjYp8RupH-"
      }
    },
    {
      "cell_type": "code",
      "source": [
        "# prints numbers from 1 to 7 ** end of range is one more than the final no. \n",
        "zero_to_seven = range(0,8)\n",
        "print(list(zero_to_seven))\n",
        "\n",
        "# single input is also possible \n",
        "zero_to_seven = range(8)\n",
        "\n",
        "# prints numbers from 3-7\n",
        "zero_to_seven = range(3,8)\n",
        "\n",
        "# If we use a third input, we can create a list that “skips” numbers.\n",
        "my_range2 = range(2, 9, 2)\n",
        "# [2, 4, 6, 8]\n",
        "\n",
        "my_range3 = range(1, 100, 10)\n",
        "# [1, 11, 21, 31, 41, 51, 61, 71, 81, 91]"
      ],
      "metadata": {
        "id": "HIR9nRNmxzNI"
      },
      "execution_count": null,
      "outputs": []
    },
    {
      "cell_type": "markdown",
      "source": [
        "range() and list()"
      ],
      "metadata": {
        "id": "Dgk4B4H4xzi5"
      }
    },
    {
      "cell_type": "code",
      "source": [
        "long_list = [1, 5, 6, 7, -23, 69.5, True, \"very\", \"long\", \"list\", \"that\", \"keeps\", \"going.\", \"Let's\", \"practice\", \"getting\", \"the\", \"length\"]\n",
        "long_list_len = len(long_list) \n",
        "\n",
        "# for range function, to get list length dont need to do list()\n",
        "big_range = range(2, 3000, 10)\n",
        "big_range_length = len(big_range)\n",
        "print(big_range_length)"
      ],
      "metadata": {
        "id": "7u3RPC792TX7"
      },
      "execution_count": null,
      "outputs": []
    },
    {
      "cell_type": "markdown",
      "source": [
        "len() >> list length "
      ],
      "metadata": {
        "id": "q95JKd4N2bYP"
      }
    },
    {
      "cell_type": "code",
      "source": [
        "suitcase = [\"shirt\", \"shirt\", \"pants\", \"pants\", \"pajamas\", \"books\"]\n",
        "\n",
        "beginning = suitcase[0:2]\n",
        "print(beginning)\n",
        "#['shirt', 'shirt']\n",
        "\n",
        "middle = suitcase[2:4]\n",
        "print(middle)\n",
        "#['pants', 'pants']\n",
        "\n",
        "# one index input slices\n",
        "\n",
        "last_two_elements= suitcase[-2:]\n",
        "print(last_two_elements)\n",
        "\n",
        "slice_off_last_three = suitcase[:-3]\n",
        "print(slice_off_last_three)"
      ],
      "metadata": {
        "id": "m80AggqPKW7V"
      },
      "execution_count": null,
      "outputs": []
    },
    {
      "cell_type": "markdown",
      "source": [
        "letters[start:end] >> Slicing Lists by index \n",
        "\n",
        "fruits[:n] >> select the first n elements of a list"
      ],
      "metadata": {
        "id": "WPFeRZ37KXE2"
      }
    },
    {
      "cell_type": "code",
      "source": [
        "letters = [\"m\", \"i\", \"s\", \"s\", \"i\", \"s\", \"s\", \"i\", \"p\", \"p\", \"i\"]\n",
        "num_i = letters.count(\"i\")\n",
        "# 4\n",
        "\n",
        "# two-dimensional list can also be counted\n",
        "num_pairs = number_collection.count([100, 200])\n",
        "\n",
        "\n"
      ],
      "metadata": {
        "id": "dFu4BuYoMMef"
      },
      "execution_count": null,
      "outputs": []
    },
    {
      "cell_type": "markdown",
      "source": [
        ".count(): Counting in a List >> thing to count in the ()"
      ],
      "metadata": {
        "id": "D6erPP_xMMjX"
      }
    },
    {
      "cell_type": "code",
      "source": [
        "# sort by alp order \n",
        "\n",
        "names = [\"Xander\", \"Buffy\", \"Angel\", \"Willow\", \"Giles\"]\n",
        "names.sort()\n",
        "# ['Angel', 'Buffy', 'Giles', 'Willow', 'Xander']\n",
        "\n",
        "# sort by desc alp order \n",
        "\n",
        "names.sort(reverse=True)\n",
        "#['Xander', 'Willow', 'Giles', 'Buffy', 'Angel']\n",
        "\n",
        "cities = [\"London\", \"Paris\", \"Rome\", \"Los Angeles\", \"New York\"]\n",
        "sorted_cities = cities.sort()\n",
        "print(sorted_cities)\n",
        "#returns none >> as sort changes the data structures of the list "
      ],
      "metadata": {
        "id": "f_Sz3DiU2msH"
      },
      "execution_count": null,
      "outputs": []
    },
    {
      "cell_type": "markdown",
      "source": [
        " .sort() >> sorting lists"
      ],
      "metadata": {
        "id": "Qz5Lgllr2m2Q"
      }
    },
    {
      "cell_type": "code",
      "source": [
        "names = [\"Xander\", \"Buffy\", \"Angel\", \"Willow\", \"Giles\"]\n",
        "sorted_names = sorted(names)\n",
        "#['Angel', 'Buffy', 'Giles', 'Willow', 'Xander']"
      ],
      "metadata": {
        "id": "8eS3GleS51Uv"
      },
      "execution_count": null,
      "outputs": []
    },
    {
      "cell_type": "markdown",
      "source": [
        "built-in function: sorted() \n",
        "\n",
        "different from the .sort() method in two ways: comes before a list & generates a new list rather than modifying the one that already exists."
      ],
      "metadata": {
        "id": "1rydo6Ze51oD"
      }
    },
    {
      "cell_type": "markdown",
      "source": [
        "# Lists review exercise"
      ],
      "metadata": {
        "id": "eEpcPD0q7kg8"
      }
    },
    {
      "cell_type": "code",
      "source": [
        "inventory = [\"twin bed\", \"twin bed\", \"headboard\", \"queen bed\", \"king bed\", \"dresser\", \"dresser\", \"table\", \"table\", \"nightstand\", \"nightstand\", \"king bed\", \"king bed\", \"twin bed\", \"twin bed\", \"sheets\", \"sheets\", \"pillow\", \"pillow\"]\n",
        "\n",
        "# how many items are there in the inventory\n",
        "inventory_len = len(inventory)\n",
        "print(inventory_len)\n",
        "\n",
        "# select first and last item in the inventory\n",
        "first = inventory[0]\n",
        "last = inventory[-1]\n",
        "\n",
        "# Select items from the inventory starting at index 2 and up to, but not including, index 6\n",
        "inventory_2_6 = inventory[2:6]\n",
        "\n",
        "# Select the first 3 items of inventory\n",
        "first_3 = inventory[:3]\n",
        "\n",
        "# How many 'twin bed's are in inventory?\n",
        "twin_beds = inventory.count(\"twin bed\")\n",
        "\n",
        "# Remove the 5th element in the inventory >> when printed, gets item tat is removed.\n",
        "removed_item = inventory.pop(4)\n",
        "print(removed_item)\n",
        "\n",
        "# Use the .insert() method to place \"19th Century Bed Frame\" as the 11th element in inventory.\n",
        "inventory.insert(10,\"19th Century Bed Frame\") \n",
        "\n",
        "# Sort inventory alphabetically\n",
        "inventory.sort()\n",
        "print(inventory)"
      ],
      "metadata": {
        "id": "_whU6WgS7pAk"
      },
      "execution_count": null,
      "outputs": []
    },
    {
      "cell_type": "markdown",
      "source": [
        "# Len's Slice"
      ],
      "metadata": {
        "id": "NAlj5wmYEgdu"
      }
    },
    {
      "cell_type": "code",
      "source": [
        "toppings = [\"pepperoni\", \"pineapple\", \"cheese\", \"sausage\", \"olives\", \"anchovies\", \"mushrooms\"]\n",
        "\n",
        "prices = [2, 6, 1, 3, 2, 7, 2]\n",
        "\n",
        "num_two_dollar_slices = prices.count(2)\n",
        "print(num_two_dollar_slices)\n",
        "\n",
        "num_pizzas = len(toppings)\n",
        "\n",
        "print(\"We sell \",num_pizzas, \"different kinds of pizza!\")\n",
        "\n",
        "pizza_and_prices = [[2, \"pepperoni\"], [6, \"pineapple\"], [1, \"cheese\"], [3, \"sausage\"], [2, \"olives\"], [7, \"anchovies\"], [2, \"mushrooms\"]]\n",
        "\n",
        "print(pizza_and_prices)\n",
        "\n",
        "pizza_and_prices.sort()\n",
        "print(pizza_and_prices)\n",
        "\n",
        "cheapest_pizza = pizza_and_prices[0]\n",
        "priciest_pizza = pizza_and_prices[-1]\n",
        "print(cheapest_pizza)\n",
        "print(priciest_pizza)\n",
        "\n",
        "pizza_and_prices.pop()\n",
        "pizza_and_prices.append([2.5, \"peppers\"])\n",
        "pizza_and_prices.sort()\n",
        "print(pizza_and_prices)\n",
        "\n",
        "three_cheapest = pizza_and_prices[:3]\n",
        "print(three_cheapest)"
      ],
      "metadata": {
        "id": "uzcsENDvEfh7"
      },
      "execution_count": null,
      "outputs": []
    },
    {
      "cell_type": "markdown",
      "source": [
        "# Tuples"
      ],
      "metadata": {
        "id": "Rj-sNK_uLZoL"
      }
    },
    {
      "cell_type": "code",
      "source": [
        "my_info = ( \"Karen\", 24, \"Student\")\n",
        "my_info[0]\n",
        "# 'Karen'\n",
        "\n",
        "# cannot be changed\n",
        "my_info[0] = \"niu niu\"\n",
        "# TypeError: 'tuple' object does not support item assignment\n",
        "\n",
        "name, age, occupation = my_info\n",
        "occupation\n",
        "# 'Student'\n",
        "\n",
        "# creating an one element tuple >> need the comma at the back \n",
        "one_tuple = (4,)"
      ],
      "metadata": {
        "colab": {
          "base_uri": "https://localhost:8080/",
          "height": 36
        },
        "id": "rOiDU3GdLb3Z",
        "outputId": "7bc8ae28-87dd-443c-bd52-0ea36dcc135e"
      },
      "execution_count": 5,
      "outputs": [
        {
          "output_type": "execute_result",
          "data": {
            "text/plain": [
              "'Student'"
            ],
            "application/vnd.google.colaboratory.intrinsic+json": {
              "type": "string"
            }
          },
          "metadata": {},
          "execution_count": 5
        }
      ]
    },
    {
      "cell_type": "markdown",
      "source": [
        "Tuples are lists that are immutable. They can't be modified but can be called in the same way as lists."
      ],
      "metadata": {
        "id": "m9cn5xjzLcU7"
      }
    },
    {
      "cell_type": "markdown",
      "source": [
        "# Combining lists"
      ],
      "metadata": {
        "id": "a15kZkpgN8O9"
      }
    },
    {
      "cell_type": "code",
      "source": [
        "names = [\"Jenny\", \"Alexus\", \"Sam\", \"Grace\"]\n",
        "heights = [61, 70, 67, 64]\n",
        "names_and_heights = zip(names, heights)\n",
        "print(names_and_heights)\n",
        "# output: <zip object at 0x7f95eb7cbd80>\n",
        "# This zip object contains the location of this variable in our computer’s memory.\n",
        "\n",
        "# convert list \n",
        "converted_list = list(names_and_heights)\n",
        "print(converted_list)\n",
        "# output: [('Jenny', 61), ('Alexus', 70), ('Sam', 67), ('Grace', 64)]\n"
      ],
      "metadata": {
        "colab": {
          "base_uri": "https://localhost:8080/"
        },
        "id": "IiGQ6PnLN7nr",
        "outputId": "78378382-46d8-4dbe-f1c2-5858851149a2"
      },
      "execution_count": 8,
      "outputs": [
        {
          "output_type": "stream",
          "name": "stdout",
          "text": [
            "<zip object at 0x7f95de7ecb40>\n",
            "[('Jenny', 61), ('Alexus', 70), ('Sam', 67), ('Grace', 64)]\n"
          ]
        }
      ]
    },
    {
      "cell_type": "markdown",
      "source": [
        "The zip() function >> \n",
        "\n",
        "1. Our data set has been converted from a zip memory object to an actual list (denoted by [ ]) \n",
        "\n",
        "2. Our inner lists don’t use square brackets [ ] around the values. This is because they have been converted into tuples (an immutable type of list)."
      ],
      "metadata": {
        "id": "P9-LFVTtOBhl"
      }
    }
  ]
}