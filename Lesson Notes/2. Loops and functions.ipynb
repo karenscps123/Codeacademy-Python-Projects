{
  "nbformat": 4,
  "nbformat_minor": 0,
  "metadata": {
    "colab": {
      "provenance": [],
      "authorship_tag": "ABX9TyPnXw+IJPEaqabRjcvjP4Ez",
      "include_colab_link": true
    },
    "kernelspec": {
      "name": "python3",
      "display_name": "Python 3"
    },
    "language_info": {
      "name": "python"
    }
  },
  "cells": [
    {
      "cell_type": "markdown",
      "metadata": {
        "id": "view-in-github",
        "colab_type": "text"
      },
      "source": [
        "<a href=\"https://colab.research.google.com/github/karenscps123/Codeacademy-Python-Projects/blob/main/Lesson%20Notes/Loops%20and%20functions.ipynb\" target=\"_parent\"><img src=\"https://colab.research.google.com/assets/colab-badge.svg\" alt=\"Open In Colab\"/></a>"
      ]
    },
    {
      "cell_type": "markdown",
      "source": [
        "# Loops"
      ],
      "metadata": {
        "id": "1HvmH9WrTNo8"
      }
    },
    {
      "cell_type": "code",
      "source": [
        "sport_games = [\"football\", \"hockey\", \"baseball\", \"cricket\"]\n",
        "\n",
        "for game in sport_games: \n",
        "  print(game)"
      ],
      "metadata": {
        "id": "zos13W1LTTT1"
      },
      "execution_count": null,
      "outputs": []
    },
    {
      "cell_type": "markdown",
      "source": [
        "For loops :  \n",
        "for (temporary variable) in (collection):\n",
        "  \n",
        "  (action)"
      ],
      "metadata": {
        "id": "pwPt7VVXTUvi"
      }
    },
    {
      "cell_type": "code",
      "source": [
        "# print promise 5 times\n",
        "\n",
        "promise = \"I will finish the python loops module!\"\n",
        "\n",
        "for i in range(5):\n",
        "  print(promise)\n",
        "\n",
        "# counting times \n",
        "for i in range(5):\n",
        "  print(promise, \"x \", str(i + 1))\n"
      ],
      "metadata": {
        "id": "OVOHR9uHVXFh"
      },
      "execution_count": null,
      "outputs": []
    },
    {
      "cell_type": "markdown",
      "source": [
        "range()"
      ],
      "metadata": {
        "id": "cPRzKfr4VXKn"
      }
    },
    {
      "cell_type": "code",
      "source": [
        "# While Loop Walkthrough\n",
        "count = 0\n",
        "print(\"Starting While Loop\")\n",
        "while count <= 3:\n",
        "  # Loop Body\n",
        "  # Print if the condition is still true\n",
        "  print(\"Loop Iteration - count <= 3 is still true\")\n",
        "  # Print the current value of count \n",
        "  print(\"Count is currently \" + str(count))\n",
        "  # Increment count\n",
        "  count += 1\n",
        "  print(\" ----- \")\n",
        "print(\"While Loop ended\")"
      ],
      "metadata": {
        "id": "g_xlO-WVYnHA"
      },
      "execution_count": null,
      "outputs": []
    },
    {
      "cell_type": "markdown",
      "source": [
        "While loop walkthru >> conditional loops"
      ],
      "metadata": {
        "id": "nDm3jMmIYoCP"
      }
    },
    {
      "cell_type": "code",
      "source": [
        "countdown = 10\n",
        "while countdown >= 0:\n",
        "  print(countdown) \n",
        "  countdown -= 1\n",
        "print(\"We have liftoff!\")"
      ],
      "metadata": {
        "id": "2sYmH2Z3Zi3l"
      },
      "execution_count": null,
      "outputs": []
    },
    {
      "cell_type": "markdown",
      "source": [
        "countdown from 10, careful not to create infinite loops "
      ],
      "metadata": {
        "id": "cJemo_JIamVZ"
      }
    },
    {
      "cell_type": "code",
      "source": [
        "length = len(ingredients)\n",
        "index = 0\n",
        " \n",
        "while index < length:\n",
        "  print(ingredients[index])\n",
        "  index += 1"
      ],
      "metadata": {
        "id": "R17aLNqdar5b"
      },
      "execution_count": null,
      "outputs": []
    },
    {
      "cell_type": "markdown",
      "source": [
        "While loops in lists walkthrough"
      ],
      "metadata": {
        "id": "lmWQY6fUpQbY"
      }
    },
    {
      "cell_type": "code",
      "source": [
        "python_topics = [\"variables\", \"control flow\", \"loops\", \"modules\", \"classes\"]\n",
        "\n",
        "#Your code below: \n",
        "length = len(python_topics)\n",
        "index = 0\n",
        "\n",
        "while index < length:\n",
        "  print(\"I am learning about \",python_topics[index])\n",
        "  index += 1"
      ],
      "metadata": {
        "id": "Y-k0X0sfpmY3"
      },
      "execution_count": null,
      "outputs": []
    },
    {
      "cell_type": "markdown",
      "source": [
        "While loop to print out each index item in list in each iteration \n"
      ],
      "metadata": {
        "id": "3KKjt39tpmiS"
      }
    },
    {
      "cell_type": "code",
      "source": [
        "students_period_A = [\"Alex\", \"Briana\", \"Cheri\", \"Daniele\"]\n",
        "students_period_B = [\"Dora\", \"Minerva\", \"Alexa\", \"Obie\"]\n",
        "\n",
        "index = 0\n",
        "for student in students_period_B:\n",
        "  students_period_A.append(student)\n",
        "print(students_period_A)"
      ],
      "metadata": {
        "id": "JlpOsImbqbJJ"
      },
      "execution_count": null,
      "outputs": []
    },
    {
      "cell_type": "markdown",
      "source": [
        "use a for loop to add the two list of students tgt "
      ],
      "metadata": {
        "id": "yJrpnECvtKLG"
      }
    },
    {
      "cell_type": "code",
      "source": [
        "items_on_sale = [\"blue shirt\", \"striped socks\", \"knit dress\", \"red headband\", \"dinosaur onesie\"]\n",
        " \n",
        "print(\"Checking the sale list!\")\n",
        " \n",
        "for item in items_on_sale:\n",
        "  print(item)\n",
        "  if item == \"knit dress\":\n",
        "    break\n",
        " \n",
        "print(\"End of search!\")"
      ],
      "metadata": {
        "id": "6pyZspJNt-wu"
      },
      "execution_count": null,
      "outputs": []
    },
    {
      "cell_type": "markdown",
      "source": [
        "loop control: break walkthrough"
      ],
      "metadata": {
        "id": "NXqJqfAwuCIZ"
      }
    },
    {
      "cell_type": "code",
      "source": [
        "dog_breeds_available_for_adoption = [\"french_bulldog\", \"dalmatian\", \"shihtzu\", \"poodle\", \"collie\"]\n",
        "dog_breed_I_want = \"dalmatian\"\n",
        "\n",
        "for dog_breed in dog_breeds_available_for_adoption:\n",
        "  print(dog_breed)\n",
        "  if dog_breed == dog_breed_I_want:\n",
        "    print(\"They have the dog I want!\")\n",
        "    break"
      ],
      "metadata": {
        "id": "RAf741lzuKHF"
      },
      "execution_count": null,
      "outputs": []
    },
    {
      "cell_type": "markdown",
      "source": [
        "loop control: break exercise "
      ],
      "metadata": {
        "id": "roG8JY0huty_"
      }
    },
    {
      "cell_type": "code",
      "source": [
        "big_number_list = [1, 2, -1, 4, -5, 5, 2, -9]\n",
        "\n",
        "for i in big_number_list:\n",
        "  if i <= 0:\n",
        "    continue\n",
        "  print(i)"
      ],
      "metadata": {
        "id": "GXc-vGjyu6y8"
      },
      "execution_count": null,
      "outputs": []
    },
    {
      "cell_type": "markdown",
      "source": [
        "Loop Control: Continue >>skips specific iterations of the loop\n",
        "\n",
        "Similar to when we were using the break control statement, our continue control statement is usually paired with some form of a conditional (if/elif/else)."
      ],
      "metadata": {
        "id": "645R6ypGu637"
      }
    },
    {
      "cell_type": "code",
      "source": [
        "ages = [12, 38, 34, 26, 21, 19, 67, 41, 17]\n",
        "\n",
        "for age in ages:\n",
        "  if age >= 21:\n",
        "    print(age)\n",
        "  else:\n",
        "    continue"
      ],
      "metadata": {
        "id": "rar_8ud2xVc_"
      },
      "execution_count": null,
      "outputs": []
    },
    {
      "cell_type": "markdown",
      "source": [
        "continue exercise: \n",
        "\n",
        "Your computer is the doorman at a bar in a country where the drinking age is 21.\n",
        "\n",
        "Loop through the ages list. If an entry is less than 21, skip it and move to the next entry. Otherwise, print() the age."
      ],
      "metadata": {
        "id": "UUJdmMCbxWNm"
      }
    },
    {
      "cell_type": "code",
      "source": [
        "project_teams = [[\"Ava\", \"Samantha\", \"James\"], [\"Lucille\", \"Zed\"], [\"Edgar\", \"Gabriel\"]]\n",
        "for team in project_teams:\n",
        "  print(team)\n",
        "# prints 3 lists but not the students inside \n",
        "\n",
        "for team in project_teams:\n",
        "  for student in team:\n",
        "    print(student)\n",
        "# prints all the names of the students "
      ],
      "metadata": {
        "id": "zhuHXoOAxgbu"
      },
      "execution_count": null,
      "outputs": []
    },
    {
      "cell_type": "markdown",
      "source": [
        "Nested loops example "
      ],
      "metadata": {
        "id": "0z_wfomPydi9"
      }
    },
    {
      "cell_type": "code",
      "source": [
        "sales_data = [[12, 17, 22], [2, 10, 3], [5, 12, 13]]\n",
        "\n",
        "scoops_sold = 0\n",
        "\n",
        "for location in sales_data:\n",
        "  for num in location:\n",
        "    scoops_sold += num\n",
        "\n",
        "print(scoops_sold)"
      ],
      "metadata": {
        "id": "odtOdHTFzO5K"
      },
      "execution_count": null,
      "outputs": []
    },
    {
      "cell_type": "markdown",
      "source": [
        "Nested loops tut: We want to sum up the total number of scoops sold across all three locations. "
      ],
      "metadata": {
        "id": "u_NtDeDUzPAU"
      }
    },
    {
      "cell_type": "code",
      "source": [
        "numbers = [2, -1, 79, 33, -45]\n",
        "doubled = []\n",
        " \n",
        "for number in numbers:\n",
        "  doubled.append(number * 2)\n",
        " \n",
        "print(doubled)\n",
        "\n",
        "# is the same as \n",
        "\n",
        "numbers = [2, -1, 79, 33, -45]\n",
        "doubled = [num * 2 for num in numbers]\n",
        "print(doubled)\n",
        "\n",
        "# examples \n",
        "\n",
        "grades = [90, 88, 62, 76, 74, 89, 48, 57]\n",
        "\n",
        "scaled_grades = [ g + 10 for g in grades ]\n",
        "print(scaled_grades)"
      ],
      "metadata": {
        "id": "H0hi069j0x3c"
      },
      "execution_count": null,
      "outputs": []
    },
    {
      "cell_type": "markdown",
      "source": [
        "List Comprehensions: making codes more elegant + less prone to errors"
      ],
      "metadata": {
        "id": "KEz1EmWj0x7f"
      }
    },
    {
      "cell_type": "code",
      "source": [
        "numbers = [2, -1, 79, 33, -45]\n",
        "only_negative_doubled = []\n",
        " \n",
        "for num in numbers:\n",
        "  if num < 0: \n",
        "    only_negative_doubled.append(num * 2)\n",
        " \n",
        "print(only_negative_doubled)  \n",
        "\n",
        "#is the same as \n",
        "\n",
        "numbers = [2, -1, 79, 33, -45]\n",
        "negative_doubled = [num * 2 for num in numbers if num < 0]\n",
        "print(negative_doubled)"
      ],
      "metadata": {
        "id": "Fg_tutWJ281Q"
      },
      "execution_count": null,
      "outputs": []
    },
    {
      "cell_type": "markdown",
      "source": [
        "List Comprehensions: Conditionals"
      ],
      "metadata": {
        "id": "TQH8wzsE2856"
      }
    },
    {
      "cell_type": "code",
      "source": [
        "heights = [161, 164, 156, 144, 158, 170, 163, 163, 157]\n",
        "can_ride_coaster = [num for num in heights if num > 161]\n",
        "print(can_ride_coaster)"
      ],
      "metadata": {
        "id": "XXX6zNt2HGNa"
      },
      "execution_count": null,
      "outputs": []
    },
    {
      "cell_type": "markdown",
      "source": [
        "Using a list comprehension, create a new list called can_ride_coaster that has every element from heights that is greater than 161."
      ],
      "metadata": {
        "id": "2cXWRVGCHGuP"
      }
    },
    {
      "cell_type": "markdown",
      "source": [
        "# Loops review "
      ],
      "metadata": {
        "id": "aVPdx_6XHlYK"
      }
    },
    {
      "cell_type": "code",
      "source": [
        "# create list\n",
        "single_digits = range(0,10)\n",
        "print(list(single_digits))\n",
        "\n",
        "squares = []\n",
        "\n",
        "# Create a for loop that goes through single_digits and prints out each one\n",
        "\n",
        "for num in single_digits:\n",
        "  print(num)\n",
        "\n",
        "# Inside the loop that iterates through single_digits, \n",
        "# append the squared value of each element of single_digits to the list squares. \n",
        "\n",
        "for num in single_digits:\n",
        "  squares.append(num*num)\n",
        "print(squares)\n",
        "\n",
        "# Create the list cubes using a list comprehension on the single_digits taken to the first power\n",
        "\n",
        "cubes = [(num*num*num) for num in single_digits]\n",
        "print(cubes)"
      ],
      "metadata": {
        "id": "GkJO9V77IBQn"
      },
      "execution_count": null,
      "outputs": []
    },
    {
      "cell_type": "markdown",
      "source": [
        "# Loops Projet: Carly's Clippers"
      ],
      "metadata": {
        "id": "JQeyjjZ1cm5Q"
      }
    },
    {
      "cell_type": "code",
      "source": [
        "# Prices and Cuts:\n",
        "hairstyles = [\"bouffant\", \"pixie\", \"dreadlocks\", \"crew\", \"bowl\", \"bob\", \"mohawk\", \"flattop\"]\n",
        "\n",
        "prices = [30, 25, 40, 20, 20, 35, 50, 35]\n",
        "\n",
        "last_week = [2, 3, 5, 8, 4, 4, 6, 2]\n",
        "\n",
        "total_price = 0\n",
        "\n",
        "for num in prices:\n",
        "  total_price += num\n",
        "print(total_price)\n",
        "\n",
        "average_price = total_price / len(prices)\n",
        "print(\"Average Haircut Price: $\",average_price)\n",
        "\n",
        "new_price = [(num - 5) for num in prices]\n",
        "print(new_price)\n",
        "\n",
        "# Revenue:\n",
        "\n",
        "total_revenue = 0\n",
        "\n",
        "for i in range(0,len(hairstyles)):\n",
        " total_revenue += (prices[i] * last_week[i])\n",
        "\n",
        "print(\"Total Revenue: $\",total_revenue)\n",
        "\n",
        "average_daily_revenue = total_revenue / 7\n",
        "print(\"Average Daily Revenue: $\",average_daily_revenue)\n",
        "\n",
        "cuts_under_30 = [ hairstyles[num] for num in range(0,(len(new_price))) if new_price[num] < 30]\n",
        "\n",
        "print(cuts_under_30)\n"
      ],
      "metadata": {
        "id": "xk3VqJztcrEc"
      },
      "execution_count": null,
      "outputs": []
    },
    {
      "cell_type": "markdown",
      "source": [
        "# Functions"
      ],
      "metadata": {
        "id": "_3L-Z9zqrMem"
      }
    },
    {
      "cell_type": "code",
      "source": [
        "\n",
        "def trip_welcome():\n",
        "  print(\"Welcome to Tripcademy!\") \n",
        "  print(\"Let's get you to your destination.\")\n",
        "\n",
        "def directions_to_timesSq():\n",
        "  print(\"Walk 4 mins to 34th St Herald Square train station\")\n",
        "  print(\"Take the Northbound N, Q, R, or W train 1 stop\")\n",
        "  print(\"Get off the Times Square 42nd Street stop\")\n",
        "\n",
        "trip_welcome()\n",
        "directions_to_timesSq()"
      ],
      "metadata": {
        "id": "mhqwSp14rmhT"
      },
      "execution_count": null,
      "outputs": []
    },
    {
      "cell_type": "markdown",
      "source": [
        "def function_name():\n",
        "   \n",
        "  functions tasks go here\n",
        "\n",
        "function_name() to call"
      ],
      "metadata": {
        "id": "nm2cGimgrmmv"
      }
    },
    {
      "cell_type": "code",
      "source": [
        "# Create a function called generate_trip_instructions() that defines one parameter called location.\n",
        "def generate_trip_instructions(location):\n",
        "  print(\"Looks like you are planning a trip to visit \" + location)\n",
        "  print(\"You can use the public subway system to get to \" + location)\n",
        "\n",
        "# change the different location arguements\n",
        "generate_trip_instructions(\"Grand Central Station\")"
      ],
      "metadata": {
        "id": "Vk93iE710adY"
      },
      "execution_count": null,
      "outputs": []
    },
    {
      "cell_type": "markdown",
      "source": [
        "Function parameters >> single parameter "
      ],
      "metadata": {
        "id": "J-o9Kfve0ajo"
      }
    },
    {
      "cell_type": "code",
      "source": [
        "def trip_welcome(origin, destination):\n",
        "  print(\"Welcome to Tripcademy\")\n",
        "  print(\"Looks like you are traveling from \" + origin)\n",
        "  print(\"And you are heading to \" + destination)\n",
        "\n",
        "trip_welcome(\"Prospect Park\", \"Atlantic Terminal\")"
      ],
      "metadata": {
        "id": "jMXo1oVj4UpE"
      },
      "execution_count": null,
      "outputs": []
    },
    {
      "cell_type": "markdown",
      "source": [
        "Function parameters >> multiple parameters example"
      ],
      "metadata": {
        "id": "k-_l6FU14Uul"
      }
    },
    {
      "cell_type": "code",
      "source": [
        "def calculate_expenses(plane_ticket_price, car_rental_rate, hotel_rate, trip_time):\n",
        "  car_rental_total = car_rental_rate * trip_time\n",
        "  hotel_total = hotel_rate * trip_time - 10\n",
        "  print(car_rental_total + plane_ticket_price + hotel_total)\n",
        "\n",
        "calculate_expenses(200, 100, 100, 5)\n"
      ],
      "metadata": {
        "id": "rnzYzaV85zg6"
      },
      "execution_count": null,
      "outputs": []
    },
    {
      "cell_type": "markdown",
      "source": [
        "Our travel application users want to calculate the total expenses they may have to incur on a trip.\n",
        "\n",
        "Write a function called calculate_expenses that will have four parameters (in exact order):\n",
        "\n",
        "1. plane_ticket_price, 2. car_rental_rate, 3. hotel_rate, 4. trip_time\n",
        "\n",
        "Each of these parameters will account for a different expense that our users will incur."
      ],
      "metadata": {
        "id": "YgxU-Vce73iK"
      }
    },
    {
      "cell_type": "code",
      "source": [
        "def trip_planner(first_destination, second_destination, final_destination = \"Codecademy HQ\"):\n",
        "  print(\"Here is what your trip will look like!\")\n",
        "  print(\"First, we will stop in \" + first_destination + \", then \" + second_destination + \", and lastly \" + final_destination)\n",
        "\n",
        "# Positional arguments\n",
        "trip_planner(\"Denmark\", \"France\", \"Germany\")\n",
        "\n",
        "# Keyword arguments\n",
        "trip_planner(first_destination = \"Iceland\", final_destination = \"Germany\", second_destination = \"India\")\n",
        "\n",
        "# Default arguments\n",
        "trip_planner(\"Brooklyn\", \"Queens\")"
      ],
      "metadata": {
        "id": "EUm_n6RA7_1q"
      },
      "execution_count": null,
      "outputs": []
    },
    {
      "cell_type": "markdown",
      "source": [
        "Types of arguements: Positional arguments, Keyword arguments, Default arguments"
      ],
      "metadata": {
        "id": "xphDWuze_Nn9"
      }
    },
    {
      "cell_type": "code",
      "source": [
        "tshirt_price = 9.75\n",
        "shorts_price = 15.50\n",
        "mug_price = 5.99\n",
        "poster_price = 2.00\n",
        "\n",
        "# max()\n",
        "max_price = max(tshirt_price, shorts_price, mug_price, poster_price)\n",
        "print(max_price)\n",
        "\n",
        "# min()\n",
        "min_price = min(tshirt_price, shorts_price, mug_price, poster_price)\n",
        "print(min_price)\n",
        "\n",
        "#round()\n",
        "rounded_price = round(tshirt_price, 1)\n",
        "print(rounded_price )"
      ],
      "metadata": {
        "id": "p3SQA9A8AG6V"
      },
      "execution_count": null,
      "outputs": []
    },
    {
      "cell_type": "markdown",
      "source": [
        "Python Built-in function: max(), min(), round()"
      ],
      "metadata": {
        "id": "F7bYXV78AG-h"
      }
    },
    {
      "cell_type": "code",
      "source": [
        "def calculate_exchange_usd(us_dollars, exchange_rate):\n",
        "  return us_dollars * exchange_rate\n",
        " \n",
        "new_zealand_exchange = calculate_exchange_usd(100, 1.4)\n",
        " \n",
        "print(\"100 dollars in US currency would give you \" + str(new_zealand_exchange) + \" New Zealand dollars\")"
      ],
      "metadata": {
        "id": "UqviVZz5DOyz"
      },
      "execution_count": null,
      "outputs": []
    },
    {
      "cell_type": "markdown",
      "source": [
        "return: example "
      ],
      "metadata": {
        "id": "U5wkaaapDO4i"
      }
    },
    {
      "cell_type": "code",
      "source": [
        "current_budget = 3500.75\n",
        "shirt_expense = 9\n",
        "def print_remaining_budget(budget):\n",
        "  print(\"Your remaining budget is: $\" + str(budget))\n",
        "\n",
        "print_remaining_budget(current_budget)\n",
        "\n",
        "# Write your code below: \n",
        "\n",
        "def deduct_expense(budget, expense):\n",
        "  return (budget - expense)\n",
        "\n",
        "\n",
        "new_budget_after_shirt = deduct_expense(current_budget, shirt_expense)\n",
        "\n",
        "print_remaining_budget(new_budget_after_shirt)"
      ],
      "metadata": {
        "id": "RzwPqIp5Gnwh"
      },
      "execution_count": null,
      "outputs": []
    },
    {
      "cell_type": "markdown",
      "source": [
        "return: tutorial >> functions in functions "
      ],
      "metadata": {
        "id": "NMwNb0RvGn3X"
      }
    },
    {
      "cell_type": "code",
      "source": [
        "weather_data = ['Sunny', 'Sunny', 'Cloudy', 'Raining', 'Snowing']\n",
        " \n",
        "def threeday_weather_report(weather):\n",
        "  first_day = \" Tomorrow the weather will be \" + weather[0]\n",
        "  second_day = \" The following day it will be \" + weather[1]\n",
        "  third_day = \" Two days from now it will be \" + weather[2]\n",
        "  return first_day, second_day, third_day\n",
        "\n",
        "monday, tuesday, wednesday = threeday_weather_report(weather_data)\n",
        " \n",
        "print(monday)\n",
        "print(tuesday)\n",
        "print(wednesday)"
      ],
      "metadata": {
        "id": "goOfNxNoHDj-"
      },
      "execution_count": null,
      "outputs": []
    },
    {
      "cell_type": "markdown",
      "source": [
        "Multiple returns: example "
      ],
      "metadata": {
        "id": "WpEGuUgmHDwk"
      }
    },
    {
      "cell_type": "code",
      "source": [
        "def trip_planner_welcome(name):\n",
        "  print(\"Welcome to tripplanner v1.0 \" + name)\n",
        "\n",
        "trip_planner_welcome(\"Karen\")\n",
        "\n",
        "def estimated_time_rounded(estimated_time):\n",
        "  rounded_time = round(estimated_time)\n",
        "  return rounded_time\n",
        "\n",
        "estimate = estimated_time_rounded(5)\n",
        "\n",
        "def destination_setup(origin, destination, estimated_time, mode_of_transport = \"Car\"):\n",
        "  print(\"Your trip starts off in \", origin)\n",
        "  print(\"And you are traveling to \", destination)\n",
        "  print(\"You will be traveling by \", mode_of_transport)\n",
        "  print(\"It will take approximately \", estimated_time, \"hours\")\n",
        "\n",
        "destination_setup( \"Hong Kong\", \"Singapore\", estimate)"
      ],
      "metadata": {
        "id": "8zadSCLhJKBX"
      },
      "execution_count": null,
      "outputs": []
    },
    {
      "cell_type": "markdown",
      "source": [
        "fucntions review exercise"
      ],
      "metadata": {
        "id": "s6qJ3pPjJKIf"
      }
    },
    {
      "cell_type": "markdown",
      "source": [
        "# Getting Ready for Physics Class"
      ],
      "metadata": {
        "id": "pMsYJqezhho9"
      }
    },
    {
      "cell_type": "code",
      "source": [
        "train_mass = 22680\n",
        "train_acceleration = 10\n",
        "train_distance = 100\n",
        "bomb_mass = 1\n",
        "\n",
        "\n",
        "# Turn up the Temperature \n",
        "\n",
        "def f_to_c(f_temp):\n",
        "  c_temp = (f_temp - 32) * 5/9\n",
        "  return c_temp\n",
        "\n",
        "f100_in_celsius = f_to_c(100)\n",
        "\n",
        "def c_to_f(c_temp):\n",
        "  f_temp = c_temp * (9/5) + 32\n",
        "  return f_temp\n",
        "\n",
        "c0_in_fahrenheit = c_to_f(0)\n",
        "\n",
        "print(round(f100_in_celsius, 1))\n",
        "print(c0_in_fahrenheit)\n",
        "\n",
        "# Use the Force\n",
        "\n",
        "def get_force(mass, acceleration):\n",
        "  return (mass * acceleration)\n",
        "\n",
        "train_force = get_force(train_mass, train_acceleration)\n",
        "print( \"The GE train supplies \",train_force, \"Newtons of force\")\n",
        "\n",
        "def get_energy(mass, c = (3*10**8)):\n",
        "  return (mass * c)\n",
        "\n",
        "bomb_energy = get_energy(bomb_mass)\n",
        "print(\"A 1kg bomb supplies \", bomb_energy, \"Joules.\")\n",
        "\n",
        "# Do the work \n",
        "\n",
        "def get_work(mass, acceleration, distance):\n",
        "  force = get_force(mass, acceleration)\n",
        "  return (force * distance)\n",
        "\n",
        "train_work = get_work(train_mass, train_acceleration, train_distance)\n",
        "print(\"The GE train does \", train_work, \"Joules of work over\", train_distance, \"meters.\")"
      ],
      "metadata": {
        "id": "9vz5bzHUhkDS"
      },
      "execution_count": null,
      "outputs": []
    }
  ]
}
